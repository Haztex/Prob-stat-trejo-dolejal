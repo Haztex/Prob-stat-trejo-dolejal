{
 "cells": [
  {
   "cell_type": "markdown",
   "metadata": {},
   "source": [
    "# Exercise 4 - Trimmed Mean"
   ]
  },
  {
   "cell_type": "code",
   "execution_count": null,
   "metadata": {},
   "outputs": [
    {
     "name": "stdout",
     "output_type": "stream",
     "text": [
      "Introduce the number of data:  5\n",
      "Introduce the data: \n",
      "12\n",
      "456\n",
      "658\n",
      "845\n",
      "213\n",
      "1 For add more values\n",
      "2 For calculate trimmed mean\n",
      "2\n",
      "Write trimmed mean percentaje: % 30\n",
      "The trimmed mean is: 445.75\n",
      "1 For add more values\n",
      "2 For calculate trimmed mean\n"
     ]
    }
   ],
   "source": [
    "\"\"\"\n",
    "Emerson Trejo Dolejal 3A\n",
    "\"\"\"\n",
    "terms=int(input(\"Introduce the number of data:  \"))\n",
    "num=[]\n",
    "val=0\n",
    "tmean=0\n",
    "sum=0\n",
    "i=0\n",
    "print(\"Introduce the data: \")\n",
    "for i in range(0, terms):\n",
    "        new=int(input())\n",
    "        num.append(new)\n",
    "while(1):    \n",
    "    print(\"1 For add more values\")\n",
    "    print(\"2 For calculate trimmed mean\")\n",
    "    chose=int(input())\n",
    "    if(chose==1):\n",
    "        newt=int(input(\"How many values?: \"))\n",
    "        for f in range(0, newt):\n",
    "            new=int(input())\n",
    "            num.append(new)\n",
    "    elif(chose==2):\n",
    "        num.sort()\n",
    "        val=int(input(\"Write trimmed mean percentaje: % \"))\n",
    "        val=val/100\n",
    "        n=len(num)\n",
    "        g=int(n*val)\n",
    "        r=(n*val)-g\n",
    "        i=g+1\n",
    "        while(i<=n-g-2):  \n",
    "            sum+=num[i]\n",
    "            i+=1  \n",
    "        op1=(1/(n*(1-2*val)))\n",
    "        tm=(op1*(((1-r)*(num[g]+num[n-g-1]))+sum))\n",
    "        print(f\"The trimmed mean is: {tm}\")"
   ]
  },
  {
   "cell_type": "markdown",
   "metadata": {},
   "source": [
    "The program was created based on the formula. The user can calculate the trimmed mean as many times they want, the program can stop when you select theo ption 2 or you can add more and more values selecting the option 1 in order to calculate, there is no limit for data."
   ]
  },
  {
   "cell_type": "code",
   "execution_count": null,
   "metadata": {},
   "outputs": [],
   "source": []
  }
 ],
 "metadata": {
  "kernelspec": {
   "display_name": "Python 3",
   "language": "python",
   "name": "python3"
  },
  "language_info": {
   "codemirror_mode": {
    "name": "ipython",
    "version": 3
   },
   "file_extension": ".py",
   "mimetype": "text/x-python",
   "name": "python",
   "nbconvert_exporter": "python",
   "pygments_lexer": "ipython3",
   "version": "3.7.3"
  }
 },
 "nbformat": 4,
 "nbformat_minor": 2
}
