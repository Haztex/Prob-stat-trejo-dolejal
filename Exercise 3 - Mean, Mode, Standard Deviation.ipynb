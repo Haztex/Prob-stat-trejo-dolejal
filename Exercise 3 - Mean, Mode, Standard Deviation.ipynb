{
 "cells": [
  {
   "cell_type": "markdown",
   "metadata": {},
   "source": [
    "# Exercise 3 - Calculate Sample Mean, Mode and Standard Deviation"
   ]
  },
  {
   "cell_type": "code",
   "execution_count": null,
   "metadata": {},
   "outputs": [],
   "source": [
    "\"\"\"\n",
    "@author: Emerson Trejo Dolejal 3A\n",
    "\"\"\"\n",
    "\n",
    "terms_x =int(input(\"Introduce the number of data: \"))\n",
    "data_x=[]\n",
    "mean=0\n",
    "sd=0\n",
    "a=0\n",
    "b=a\n",
    "print(\"Introduce data: \")\n",
    "for i in range(0, terms_x):\n",
    "    new_x=int(input())\n",
    "    data_x.append(new_x)\n",
    "print('''1 for sample mean\n",
    "      2 for mode\n",
    "      3 for standard deviation''')\n",
    "op=int(input(\"which operation do you want?: \"))\n",
    "if op==1:\n",
    "    for e in range(0,terms_x):\n",
    "        mean+=data_x[e]\n",
    "    mean=mean/terms_x\n",
    "    print(mean)\n",
    "if op==2:\n",
    "    for o in data_x:\n",
    "        a=data_x.count(0)\n",
    "        if a>b:\n",
    "            b=a\n",
    "    modes=[]\n",
    "    for o in data_x:\n",
    "        a=data_x.count(o)\n",
    "        if a==b and o not in modes:\n",
    "            modes.append(o)\n",
    "            print(modes)\n",
    "if op==3:\n",
    "    for e in range(0,terms_x):\n",
    "        mean+=data_x[e]\n",
    "    mean=mean/terms_x\n",
    "    for r in range(0,terms_x):\n",
    "        sd+=(data_x[r]-mean)**2\n",
    "        sd=(sd/(terms_x-1))**(1/2)\n",
    "        print(sd)"
   ]
  },
  {
   "cell_type": "markdown",
   "metadata": {},
   "source": [
    "At the beginning is a loop just to make a list in order to get data, After we have 3 if because is the best option when you have a menu in you code, i based on each one formula of each case in order to do the code, every if has a formula for its case, for example the first was to calculate the mean, the second is for moda and the third is for the standard deviation, i hasd some troubles with the mode because it was the most difficult to code."
   ]
  },
  {
   "cell_type": "code",
   "execution_count": 1,
   "metadata": {},
   "outputs": [],
   "source": [
    "#Emerson  Trejo Dolejal 3A"
   ]
  },
  {
   "cell_type": "code",
   "execution_count": null,
   "metadata": {},
   "outputs": [],
   "source": []
  }
 ],
 "metadata": {
  "kernelspec": {
   "display_name": "Python 3",
   "language": "python",
   "name": "python3"
  },
  "language_info": {
   "codemirror_mode": {
    "name": "ipython",
    "version": 3
   },
   "file_extension": ".py",
   "mimetype": "text/x-python",
   "name": "python",
   "nbconvert_exporter": "python",
   "pygments_lexer": "ipython3",
   "version": "3.7.3"
  }
 },
 "nbformat": 4,
 "nbformat_minor": 2
}
