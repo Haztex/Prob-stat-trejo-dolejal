{
 "cells": [
  {
   "cell_type": "markdown",
   "metadata": {},
   "source": [
    "## SUMMARY OF READING PYTHON 3"
   ]
  },
  {
   "cell_type": "markdown",
   "metadata": {},
   "source": [
    "In the first part of the reading it tells us about how to create comments and why they are important in coding."
   ]
  },
  {
   "cell_type": "markdown",
   "metadata": {},
   "source": [
    "Comments are used to tell you what to do in the code, also they are used to disable temporary parts of your code."
   ]
  },
  {
   "cell_type": "markdown",
   "metadata": {},
   "source": [
    "## Example of Comments 1.1"
   ]
  },
  {
   "cell_type": "markdown",
   "metadata": {},
   "source": [
    " #Hi, this is a comment, you must type '#' before any comment in your code if you don't, the program will give you an error."
   ]
  },
  {
   "cell_type": "code",
   "execution_count": null,
   "metadata": {},
   "outputs": [],
   "source": [
    "#This is a comment"
   ]
  },
  {
   "cell_type": "markdown",
   "metadata": {},
   "source": [
    "If you want to comment multiple lines, you must put # in front of each line"
   ]
  },
  {
   "cell_type": "markdown",
   "metadata": {},
   "source": [
    "## - How to place a text in the code"
   ]
  },
  {
   "cell_type": "markdown",
   "metadata": {},
   "source": [
    "Sometimes you want to place a text showing a function of a process in the code, you must use the function print with a variable or if you don't have defined variables, you can write text between quotation marks."
   ]
  },
  {
   "cell_type": "markdown",
   "metadata": {},
   "source": [
    "## - Examples of text"
   ]
  },
  {
   "cell_type": "code",
   "execution_count": 4,
   "metadata": {},
   "outputs": [
    {
     "name": "stdout",
     "output_type": "stream",
     "text": [
      "Hello World\n"
     ]
    }
   ],
   "source": [
    "# Example 1.1 text with a defined variable (This is a comment)\n",
    "x = \"Hello World\"\n",
    "\n",
    "print(x)\n"
   ]
  },
  {
   "cell_type": "code",
   "execution_count": 5,
   "metadata": {},
   "outputs": [
    {
     "name": "stdout",
     "output_type": "stream",
     "text": [
      "Hello world\n"
     ]
    }
   ],
   "source": [
    "# Example 1.2 text without defined variable (This is a comment)\n",
    "print (\"Hello world\")"
   ]
  },
  {
   "cell_type": "markdown",
   "metadata": {},
   "source": [
    "## Numbers and Math in Python 3"
   ]
  },
  {
   "cell_type": "markdown",
   "metadata": {},
   "source": [
    "Python has a lot of math symbols, here are some of them."
   ]
  },
  {
   "cell_type": "code",
   "execution_count": 8,
   "metadata": {},
   "outputs": [],
   "source": [
    "# + plus\n",
    "# - minus\n",
    "# / slash\n",
    "# * asterisk\n",
    "# % percent\n",
    "# < less-than\n",
    "# > greather-than\n",
    "# <= less-than-equal\n",
    "# >= greather-than-equal"
   ]
  },
  {
   "cell_type": "markdown",
   "metadata": {},
   "source": [
    "A basic example could be:"
   ]
  },
  {
   "cell_type": "code",
   "execution_count": 9,
   "metadata": {},
   "outputs": [
    {
     "name": "stdout",
     "output_type": "stream",
     "text": [
      "What is 3 + 2? 5\n",
      "What is 5 - 7? -2\n"
     ]
    }
   ],
   "source": [
    "print (\"What is 3 + 2?\", 3 + 2)\n",
    "print (\"What is 5 - 7?\", 5 - 7)\n"
   ]
  },
  {
   "cell_type": "markdown",
   "metadata": {},
   "source": [
    "Also you can do multiple operations, here is other example:"
   ]
  },
  {
   "cell_type": "code",
   "execution_count": 11,
   "metadata": {},
   "outputs": [
    {
     "name": "stdout",
     "output_type": "stream",
     "text": [
      "I will now count my chickens:\n",
      "Hens 34.166666666666664\n",
      "Roosters 150\n"
     ]
    }
   ],
   "source": [
    "print(\"I will now count my chickens:\")\n",
    "print(\"Hens\", 30 + 25 / 6)\n",
    "print(\"Roosters\", 150 - 45 * 6 % 3)"
   ]
  },
  {
   "cell_type": "markdown",
   "metadata": {},
   "source": [
    "## Variables and Names"
   ]
  },
  {
   "cell_type": "markdown",
   "metadata": {},
   "source": [
    "In programming a variable is nothing more than a name for something, for example you can name \"High 1\" as \"H1\", Programmers use these variables to make easier the reading of the code."
   ]
  },
  {
   "cell_type": "markdown",
   "metadata": {},
   "source": [
    "## Example Variables 1.1"
   ]
  },
  {
   "cell_type": "code",
   "execution_count": 12,
   "metadata": {},
   "outputs": [
    {
     "name": "stdout",
     "output_type": "stream",
     "text": [
      "There are 100 Cars available\n",
      "There are only 30 drivers available\n",
      "There will be 70 empty cars today.\n",
      "We have 90 to carpool today.\n"
     ]
    }
   ],
   "source": [
    "cars = 100\n",
    "drivers = 30\n",
    "passengers = 90\n",
    "cars_not_driven = cars - drivers\n",
    "print(\"There are\", cars, \"Cars available\")\n",
    "print(\"There are only\", drivers, \"drivers available\")\n",
    "print(\"There will be\", cars_not_driven, \"empty cars today.\")\n",
    "print(\"We have\", passengers, \"to carpool today.\")\n"
   ]
  },
  {
   "cell_type": "markdown",
   "metadata": {},
   "source": [
    "## More Variables\n"
   ]
  },
  {
   "cell_type": "markdown",
   "metadata": {},
   "source": [
    "\n",
    "A string is how you make something what your program might give to a human, you can print those strings, save strings to files or  send strings to web servers. \n",
    "\n",
    "\"Format String\" is basically the use of \"double-quotes\" around a piece of text you have been making."
   ]
  },
  {
   "cell_type": "markdown",
   "metadata": {},
   "source": [
    "There are some embed variables inside a string by using a special {} sequence and then put the variable inside the those characters {}, you must start writing the letter f that ask python to put variables in there."
   ]
  },
  {
   "cell_type": "markdown",
   "metadata": {},
   "source": [
    "## Example of Variables 1.2"
   ]
  },
  {
   "cell_type": "code",
   "execution_count": 15,
   "metadata": {},
   "outputs": [
    {
     "name": "stdout",
     "output_type": "stream",
     "text": [
      "Let's talk about Emerson\n",
      "He's 1.83 meters tall\n",
      "He's 80 kilos heavy\n",
      "He's got brown and Brown hair\n",
      "He usually clean your teeth in order to have it White\n"
     ]
    }
   ],
   "source": [
    "my_name = 'Emerson'\n",
    "my_age = 19\n",
    "my_height = 1.83 #Meters tall\n",
    "my_weight = 80 #lbs\n",
    "my_eyes = 'brown'\n",
    "my_teeth = 'White'\n",
    "my_hair = 'Brown'\n",
    "\n",
    "print(f\"Let's talk about {my_name}\")\n",
    "print(f\"He's {my_height} meters tall\")\n",
    "print(f\"He's {my_weight} kilos heavy\")\n",
    "print(f\"He's got {my_eyes} and {my_hair} hair\")\n",
    "print(f\"He usually clean your teeth in order to have it {my_teeth}\")"
   ]
  },
  {
   "cell_type": "markdown",
   "metadata": {},
   "source": [
    "## Strings and Text"
   ]
  },
  {
   "cell_type": "markdown",
   "metadata": {},
   "source": [
    "You already now how to make an string at this point you should know that strings are a bit of text that you want to display for something and in order to create an string you need to write something in simple-quotes or doble-quotes, Now but we are going to make some complex strings. \n",
    "\n",
    "Note: Strings can contain any number of variables that are in your python script."
   ]
  },
  {
   "cell_type": "code",
   "execution_count": 41,
   "metadata": {},
   "outputs": [
    {
     "name": "stdout",
     "output_type": "stream",
     "text": [
      "There are 5 types of food.\n",
      "Those who know binary and those who Don't.\n",
      "i said: There are 5 types of food.\n",
      "I also said: 'Those who know binary and those who Don't.'\n",
      "Isn't that real\n",
      "My father told me when i was just a child Live a life that you will remember\n"
     ]
    }
   ],
   "source": [
    "types_of_food = 5\n",
    "x = f\"There are {types_of_food} types of food.\"\n",
    "\n",
    "binary = \"binary\"\n",
    "do_not = \"Don't\"\n",
    "y = f\"Those who know {binary} and those who {do_not}.\"\n",
    "\n",
    "print(x)\n",
    "print(y)\n",
    "\n",
    "print(f\"i said: {x}\")\n",
    "print(f\"I also said: '{y}'\")\n",
    "\n",
    "hilarious = False\n",
    "\n",
    "joke_evaluation = \"Isn't that real\"\n",
    "print(joke_evaluation.format(hilarious))\n",
    "\n",
    "w = \"My father told me when i was just a child\"\n",
    "e = \" Live a life that you will remember\"\n",
    "\n",
    "print(w + e)"
   ]
  },
  {
   "cell_type": "markdown",
   "metadata": {},
   "source": [
    "## More Printing"
   ]
  },
  {
   "cell_type": "markdown",
   "metadata": {},
   "source": [
    "This is a compilation of the last 6 exercises and this is basic, here we show you how to print a lot of variables in 1 text as last 6 excercises."
   ]
  },
  {
   "cell_type": "code",
   "execution_count": 28,
   "metadata": {},
   "outputs": [
    {
     "name": "stdout",
     "output_type": "stream",
     "text": [
      "I want a car\n",
      "I deserve it for my grades at University\n",
      "CAR\n"
     ]
    }
   ],
   "source": [
    "print(\"I want a car\")\n",
    "print(\"I deserve it for my grades at University\")\n",
    "\n",
    "L1 = \"C\"\n",
    "L2 = \"A\"\n",
    "L3 = \"R\"\n",
    "\n",
    "print(L1 + L2 + L3)"
   ]
  },
  {
   "cell_type": "markdown",
   "metadata": {},
   "source": [
    "## Complex Printing"
   ]
  },
  {
   "cell_type": "markdown",
   "metadata": {},
   "source": [
    "Here we are going to see how to do a more omplicated formatting of a string."
   ]
  },
  {
   "cell_type": "code",
   "execution_count": 32,
   "metadata": {},
   "outputs": [
    {
     "name": "stdout",
     "output_type": "stream",
     "text": [
      "1 2 3 4\n",
      "one two three four\n",
      "green blue yellow red\n",
      "{} {} {} {} {} {} {} {} {} {} {} {} {} {} {} {}\n"
     ]
    }
   ],
   "source": [
    "formatter = \"{} {} {} {}\"\n",
    "\n",
    "print(formatter.format(1, 2, 3, 4))\n",
    "print(formatter.format(\"one\", \"two\", \"three\", \"four\"))\n",
    "print(formatter.format(\"green\", \"blue\", \"yellow\", \"red\"))\n",
    "print(formatter.format(formatter, formatter, formatter, formatter))\n"
   ]
  },
  {
   "cell_type": "markdown",
   "metadata": {},
   "source": [
    "Formatter in this example is a function that help us to turn the formatter into variable into other strings."
   ]
  },
  {
   "cell_type": "markdown",
   "metadata": {},
   "source": [
    "## Printing "
   ]
  },
  {
   "cell_type": "code",
   "execution_count": 35,
   "metadata": {},
   "outputs": [
    {
     "name": "stdout",
     "output_type": "stream",
     "text": [
      "Here are the days:  Mon Tue Wed Thu Fri Sat Sun\n",
      "Here are the months:  Jan\n",
      "Feb\n",
      "Mar\n",
      "Apr\n",
      "May\n",
      "Jun\n",
      "Jul\n",
      "Aug\n"
     ]
    }
   ],
   "source": [
    "days = \"Mon Tue Wed Thu Fri Sat Sun\"\n",
    "months = \"Jan\\nFeb\\nMar\\nApr\\nMay\\nJun\\nJul\\nAug\"\n",
    "\n",
    "print(\"Here are the days: \", days)\n",
    "print(\"Here are the months: \", months)"
   ]
  },
  {
   "cell_type": "markdown",
   "metadata": {},
   "source": [
    "## Magic? What was that?"
   ]
  },
  {
   "cell_type": "markdown",
   "metadata": {},
   "source": [
    "In the last excercise you saw a backslash character encoding different type of characters into a string, that is new and also is important for programming in python, you also know about the single-quote or double-quote inside the string. Here is some examples of uses of backlash."
   ]
  },
  {
   "cell_type": "code",
   "execution_count": 40,
   "metadata": {},
   "outputs": [
    {
     "name": "stdout",
     "output_type": "stream",
     "text": [
      "\t Hi\n",
      "Not\\Here\n",
      "Hi \\ we \\ are \\ distanced\n",
      "\n",
      "I like these songs:\n",
      "\t* Rich & Sad - Post Malone\n",
      "\t* Goodbyes - Post Malone\n",
      "\t* Saint-tropes - Post Malone\n",
      "\n",
      "\n"
     ]
    }
   ],
   "source": [
    "hi = \"\\t Hi\"\n",
    "dog = \"Not\\Here\"\n",
    "sep = \"Hi \\ we \\ are \\ distanced\"\n",
    "sad = \"\"\"\n",
    "I like these songs:\n",
    "\\t* Rich & Sad - Post Malone\n",
    "\\t* Goodbyes - Post Malone\n",
    "\\t* Saint-tropes - Post Malone\n",
    "\n",
    "\"\"\"\n",
    "\n",
    "print(hi)\n",
    "print(dog)\n",
    "print(sep)\n",
    "print(sad)"
   ]
  },
  {
   "cell_type": "code",
   "execution_count": 42,
   "metadata": {},
   "outputs": [],
   "source": [
    "#Emerson Trejo Dolejal 3A\n",
    "#Jose Alfredo Hernandez Melendez 3A"
   ]
  },
  {
   "cell_type": "code",
   "execution_count": null,
   "metadata": {},
   "outputs": [],
   "source": []
  }
 ],
 "metadata": {
  "kernelspec": {
   "display_name": "Python 3",
   "language": "python",
   "name": "python3"
  },
  "language_info": {
   "codemirror_mode": {
    "name": "ipython",
    "version": 3
   },
   "file_extension": ".py",
   "mimetype": "text/x-python",
   "name": "python",
   "nbconvert_exporter": "python",
   "pygments_lexer": "ipython3",
   "version": "3.7.3"
  }
 },
 "nbformat": 4,
 "nbformat_minor": 2
}
