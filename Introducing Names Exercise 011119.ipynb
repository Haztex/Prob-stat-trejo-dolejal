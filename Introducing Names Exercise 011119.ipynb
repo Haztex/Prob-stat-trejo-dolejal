{
 "cells": [
  {
   "cell_type": "markdown",
   "metadata": {},
   "source": [
    "# Introducing Names"
   ]
  },
  {
   "cell_type": "code",
   "execution_count": 2,
   "metadata": {},
   "outputs": [
    {
     "name": "stdout",
     "output_type": "stream",
     "text": [
      "How much data do you want to introduce?5\n",
      "Introduce a name Juan\n",
      "Introduce a name Pedro\n",
      "Introduce a name Emerson\n",
      "Introduce a name Alex\n",
      "Introduce a name Rafael\n",
      "Which name do you want to know?4\n",
      "Rafael\n"
     ]
    }
   ],
   "source": [
    "values = int(input(\"How much data do you want to introduce?\"))\n",
    "names = []\n",
    "total = 0\n",
    "for i in range(0, values):\n",
    "    X = input(\"Introduce a name \")\n",
    "    names.append(X)\n",
    "namez = int(input(\"Which name do you want to know?\"))\n",
    "print(names [namez])"
   ]
  },
  {
   "cell_type": "code",
   "execution_count": 3,
   "metadata": {},
   "outputs": [],
   "source": [
    "## Emerson Trejo Dolejal 3A"
   ]
  },
  {
   "cell_type": "code",
   "execution_count": null,
   "metadata": {},
   "outputs": [],
   "source": []
  }
 ],
 "metadata": {
  "kernelspec": {
   "display_name": "Python 3",
   "language": "python",
   "name": "python3"
  },
  "language_info": {
   "codemirror_mode": {
    "name": "ipython",
    "version": 3
   },
   "file_extension": ".py",
   "mimetype": "text/x-python",
   "name": "python",
   "nbconvert_exporter": "python",
   "pygments_lexer": "ipython3",
   "version": "3.7.3"
  }
 },
 "nbformat": 4,
 "nbformat_minor": 2
}
