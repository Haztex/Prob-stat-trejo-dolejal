{
 "cells": [
  {
   "cell_type": "markdown",
   "metadata": {},
   "source": [
    "# Make a Conversation - Exercise 02"
   ]
  },
  {
   "cell_type": "code",
   "execution_count": 2,
   "metadata": {},
   "outputs": [
    {
     "name": "stdout",
     "output_type": "stream",
     "text": [
      "Hi\n",
      "Hi\n",
      "Welcome Human, what is your name?\n",
      "Emerson\n",
      "Hi Emerson\n",
      "What is your last name?\n",
      "Trejo\n",
      "Ok, I will call you Emerson Trejo\n",
      "What is you age?19\n",
      "19\n",
      "Ohh you are the future of Mexico...\n",
      "How is going your day?\n",
      "Amazing\n",
      "Thats so good, i'm very happy for you\n",
      "So..\n",
      "Tell me..\n",
      "What is your weight?\n",
      "88\n",
      "MMmm.. your weight is normal,we thought you were fat...\n",
      "Do you practice any Sport?\n",
      "yes\n",
      "Tell me what spot do you practice\n",
      "Football\n",
      "YES! I already know it!\n",
      "Do you work or study?\n",
      "study\n",
      "What are you studying? Mechatronics\n",
      "Mechatronics\n",
      " It Looks like only very intelligent people can practice that.\n",
      "You are very interesting... Tell me What is your favorite food?Sushi\n",
      "Sushi\n",
      "WOOW! Thats my favorite food also, it is very delicious\n",
      "I have a question...\n",
      "Do you like tacos?\n",
      "Yes\n",
      "You are a wonderful person, i would like to continue with you but i'm very busy right now working in new systems, i will talk with you later\n"
     ]
    }
   ],
   "source": [
    "print(input())\n",
    "print(\"Welcome Human, what is your name?\")\n",
    "name = input()\n",
    "print(f\"Hi {name}\")\n",
    "print(\"What is your last name?\")\n",
    "lname = input()\n",
    "print(f\"Ok, I will call you {name} {lname}\")\n",
    "print(input(\"What is you age?\"))\n",
    "age = 17\n",
    "if age < 17:\n",
    "    print(\"What a funny guy, go with your mom please.\")\n",
    "elif age > 17:\n",
    "    print(\"You should be working or studying, not wasting your time here\")\n",
    "else:\n",
    "    print(\"Ohh you are the future of Mexico...\")\n",
    "print(\"How is going your day?\")\n",
    "good = input()\n",
    "if(good == \"Good\"):\n",
    "    print(\"Mmm is good to know that\")\n",
    "elif(good == \"Amazing\"):\n",
    "    print(\"Thats so good, i'm very happy for you\")\n",
    "elif(good == \"bad\"):\n",
    "    print(\"Oh noo... thats bad, don't be sad or angry, you will have better days\")\n",
    "else:\n",
    "    print(\"I hope you had a great day \")\n",
    "print(\"So..\")\n",
    "print(\"Tell me..\")\n",
    "print(\"What is your weight?\")\n",
    "weight = int(input())\n",
    "if weight > 100:\n",
    "    print(\"You are too heavy.... Omg please go to the doctor\")\n",
    "elif weight < 50:\n",
    "    print(\"Omg you need to eat, you are so Tiny\")\n",
    "elif weight > 50:\n",
    "    print(\"MMmm.. your weight is normal,we thought you were fat...\")\n",
    "else:\n",
    "    print(\"You should know your correct weight\")\n",
    "print(\"Do you practice any Sport?\")\n",
    "sport = input()\n",
    "if (sport == \"yes\"):\n",
    "    print(\"Tell me what spot do you practice\")\n",
    "    input()\n",
    "    print(\"YES! I already know it!\")\n",
    "else:\n",
    "    print(\"Ohh you look like something who practice an sport\")\n",
    "print(\"Do you work or study?\")\n",
    "answer1 = input()\n",
    "if (answer1 == \"work\"):\n",
    "    print(\"Is good that you make money at your age\")\n",
    "elif (answer1 == \"study\"):\n",
    "    print(input(\"What are you studying? \"))\n",
    "    print(\" It Looks like only very intelligent people can practice that.\")\n",
    "else:\n",
    "    print(\"Come on, you have to do something with your life bro..\")\n",
    "print(input(\"You are very interesting... Tell me What is your favorite food?\"))\n",
    "print(\"WOOW! Thats my favorite food also, it is very delicious\")\n",
    "print(\"I have a question...\")\n",
    "print(\"Do you like tacos?\")\n",
    "tacos = input()\n",
    "if (tacos == \"Yes\"):\n",
    "    print(\"You are a wonderful person, i would like to continue with you but i'm very busy right now working in new system, See you soon.. Be happy!!\")\n",
    "else: \n",
    "   print(\"Wow, all was perfect before this moment, don't talk with me again please, bye. Good Luck bro..\")    "
   ]
  },
  {
   "cell_type": "code",
   "execution_count": 4,
   "metadata": {},
   "outputs": [],
   "source": [
    "##Emerson Trejo Dolejal 3A"
   ]
  }
 ],
 "metadata": {
  "kernelspec": {
   "display_name": "Python 3",
   "language": "python",
   "name": "python3"
  },
  "language_info": {
   "codemirror_mode": {
    "name": "ipython",
    "version": 3
   },
   "file_extension": ".py",
   "mimetype": "text/x-python",
   "name": "python",
   "nbconvert_exporter": "python",
   "pygments_lexer": "ipython3",
   "version": "3.7.3"
  }
 },
 "nbformat": 4,
 "nbformat_minor": 2
}
