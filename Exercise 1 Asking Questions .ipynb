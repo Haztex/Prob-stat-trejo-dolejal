{
 "cells": [
  {
   "cell_type": "markdown",
   "metadata": {},
   "source": [
    "## Python Excercise 2 "
   ]
  },
  {
   "cell_type": "code",
   "execution_count": null,
   "metadata": {},
   "outputs": [],
   "source": [
    "# Example"
   ]
  },
  {
   "cell_type": "markdown",
   "metadata": {},
   "source": [
    "print(\"Hi what is your name?\", end = ' ')\n",
    "name = input()\n",
    "print(f\"Hi, {name}\")\n",
    "age = int(input(\"How old are you? \"))\n",
    "print(f\"Really? you are {age}?\")"
   ]
  },
  {
   "cell_type": "markdown",
   "metadata": {},
   "source": [
    "##                                                         Excercise 01"
   ]
  },
  {
   "cell_type": "markdown",
   "metadata": {},
   "source": [
    "## ------------------------------------------------------------------------------------------------------------------\n",
    "                Write a program that ask for the age of three students and return the sample mean   \n",
    "## ------------------------------------------------------------------------------------------------------------------"
   ]
  },
  {
   "cell_type": "code",
   "execution_count": 9,
   "metadata": {},
   "outputs": [
    {
     "name": "stdout",
     "output_type": "stream",
     "text": [
      "Insert age of Student 1\n",
      "10\n",
      "Insert age of Student 2\n",
      "20\n",
      "Insert age of Student 3\n",
      "30\n",
      "20\n"
     ]
    }
   ],
   "source": [
    "print(\"Insert age of Student 1\")\n",
    "age1 = int(input())\n",
    "print(\"Insert age of Student 2\")\n",
    "age2 = int(input())\n",
    "print(\"Insert age of Student 3\")\n",
    "age3 = int(input())\n",
    "\n",
    "print((age1 + age2 + age3)//3)"
   ]
  },
  {
   "cell_type": "markdown",
   "metadata": {},
   "source": [
    "First, you just need to start defining the order of the questions with the print function, in this case i made a question and after i wrote a variable in order to be understandable.\n",
    "You must define the 3 variables as int inputs, (age1, age2, age3), are integer inputs it means that your answer is going to be a number.\n",
    "At the end of the code you will define a operation using the print function in order to get the result, we add all the variables in parenthesis and devided by 3 because the instruction says \"Return the simple mean\" thats why the final operation."
   ]
  },
  {
   "cell_type": "code",
   "execution_count": null,
   "metadata": {},
   "outputs": [],
   "source": [
    "Emerson Trejo Dolejal 3A\n",
    "Jovan Cardenas Tovar 3A"
   ]
  },
  {
   "cell_type": "code",
   "execution_count": null,
   "metadata": {},
   "outputs": [],
   "source": []
  }
 ],
 "metadata": {
  "kernelspec": {
   "display_name": "Python 3",
   "language": "python",
   "name": "python3"
  },
  "language_info": {
   "codemirror_mode": {
    "name": "ipython",
    "version": 3
   },
   "file_extension": ".py",
   "mimetype": "text/x-python",
   "name": "python",
   "nbconvert_exporter": "python",
   "pygments_lexer": "ipython3",
   "version": "3.7.3"
  }
 },
 "nbformat": 4,
 "nbformat_minor": 2
}
