{
 "cells": [
  {
   "cell_type": "markdown",
   "metadata": {},
   "source": [
    "## Exercise 40"
   ]
  },
  {
   "cell_type": "code",
   "execution_count": 2,
   "metadata": {},
   "outputs": [
    {
     "name": "stdout",
     "output_type": "stream",
     "text": [
      "Happy birthday to you\n",
      "I don't want to get sued\n",
      "So I'll stop right there\n",
      "They rally around tha family\n",
      "With pockets full of shells\n"
     ]
    }
   ],
   "source": [
    "class Song(object):\n",
    "       \n",
    "       def __init__(self, lyrics): \n",
    "           self.lyrics = lyrics\n",
    "      \n",
    "       def sing_me_a_song(self):  \n",
    "           for line in self.lyrics:  \n",
    "               print(line)\n",
    "   \n",
    "happy_bday = Song([\"Happy birthday to you\", \n",
    "                      \"I don't want to get sued\", \n",
    "                      \"So I'll stop right there\"])\n",
    "   \n",
    "bulls_on_parade = Song([\"They rally around tha family\", \n",
    "                           \"With pockets full of shells\"])\n",
    "   \n",
    "happy_bday.sing_me_a_song()\n",
    "  \n",
    "bulls_on_parade.sing_me_a_song()\n"
   ]
  },
  {
   "cell_type": "markdown",
   "metadata": {},
   "source": [
    "## Exercise 41"
   ]
  },
  {
   "cell_type": "code",
   "execution_count": 4,
   "metadata": {},
   "outputs": [
    {
     "ename": "IndentationError",
     "evalue": "unindent does not match any outer indentation level (<tokenize>, line 49)",
     "output_type": "error",
     "traceback": [
      "\u001b[1;36m  File \u001b[1;32m\"<tokenize>\"\u001b[1;36m, line \u001b[1;32m49\u001b[0m\n\u001b[1;33m    results.append(result)\u001b[0m\n\u001b[1;37m    ^\u001b[0m\n\u001b[1;31mIndentationError\u001b[0m\u001b[1;31m:\u001b[0m unindent does not match any outer indentation level\n"
     ]
    }
   ],
   "source": [
    "import random \n",
    "from urllib.request import urlopen \n",
    "import sys\n",
    "\n",
    "WORD_URL = \"http://learncodethehardway.org/words.txt\" \n",
    "WORDS = []\n",
    "\n",
    "PHRASES = {\n",
    "     \"class %%%(%%%):\": \n",
    "     \"Make a class named %%% that is-a %%%.\", \n",
    "     \"class %%%(object):\\n\\tdef __init__(self, ***)\" :  \n",
    "    \"class %%% has-a __init__ that takes self and *** params.\",  \n",
    "    \"class %%%(object):\\n\\tdef ***(self, @@@)\": \n",
    "    \"class %%% has-a function *** that takes self and @@@ params.\", \n",
    "    \"*** = %%%()\": \n",
    "    \"Set *** to an instance of class %%%.\", \n",
    "    \"***.***(@@@)\": \n",
    "    \"From *** get the *** function, call it with params self, @@@.\", \n",
    "    \"***.*** = '***'\": \n",
    "    \"From *** get the *** attribute and set it to '***'.\" \n",
    "}\n",
    "\n",
    "if len(sys.argv) == 2 and sys.argv[1] == \"english\": \n",
    "    PHRASE_FIRST = True  \n",
    "    else:  \n",
    "        PHRASE_FIRST = False\n",
    "for word in urlopen(WORD_URL).readlines(): \n",
    "    WORDS.append(str(word.strip(), encoding=\"utf-8\"))\n",
    "\n",
    "def convert(snippet, phrase): \n",
    "    class_names = [w.capitalize() for w in\n",
    "                   random.sample(WORDS, snippet.count(\"%%%\"))] \n",
    "other_names = random.sample(WORDS, snippet.count(\"***\")) \n",
    "results = [] \n",
    "param_names = []\n",
    "for i in range(0, snippet.count(\"@@@\")):\n",
    "    param_count = random.randint(1,3) \n",
    "    param_names.append(', '.join( \n",
    "        random.sample(WORDS, param_count)))\n",
    "for sentence in snippet, phrase: \n",
    "    result = sentence[:]\n",
    "\n",
    "for word in class_names: \n",
    "    result = result.replace(\"%%%\", word, 1)\n",
    "for word in other_names: \n",
    "    result = result.replace(\"***\", word, 1)\n",
    "for word in param_names:\n",
    "    result = result.replace(\"@@@\", word, 1)\n",
    " results.append(result)\n",
    " \n",
    "\n",
    "try: \n",
    "    while True: snippets = list(PHRASES.keys()) random.shuffle(snippets)\n",
    "      for snippet in snippets:\n",
    "          phrase = PHRASES[snippet] \n",
    "          question, answer = convert(snippet, phrase) \n",
    "          if PHRASE_FIRST: \n",
    "              question, answer = answer, question\n",
    "   print(question)\n",
    "  "
   ]
  },
  {
   "cell_type": "markdown",
   "metadata": {},
   "source": [
    "## Exercise 42"
   ]
  },
  {
   "cell_type": "code",
   "execution_count": 5,
   "metadata": {},
   "outputs": [
    {
     "ename": "NameError",
     "evalue": "name 'Cat' is not defined",
     "output_type": "error",
     "traceback": [
      "\u001b[1;31m---------------------------------------------------------------------------\u001b[0m",
      "\u001b[1;31mNameError\u001b[0m                                 Traceback (most recent call last)",
      "\u001b[1;32m<ipython-input-5-d1bd5bbdcb60>\u001b[0m in \u001b[0;36m<module>\u001b[1;34m\u001b[0m\n\u001b[0;32m     24\u001b[0m \u001b[1;33m\u001b[0m\u001b[0m\n\u001b[0;32m     25\u001b[0m \u001b[0mrover\u001b[0m \u001b[1;33m=\u001b[0m \u001b[0mDog\u001b[0m\u001b[1;33m(\u001b[0m\u001b[1;34m\"Rover\"\u001b[0m\u001b[1;33m)\u001b[0m\u001b[1;33m\u001b[0m\u001b[1;33m\u001b[0m\u001b[0m\n\u001b[1;32m---> 26\u001b[1;33m \u001b[0msatan\u001b[0m \u001b[1;33m=\u001b[0m \u001b[0mCat\u001b[0m\u001b[1;33m(\u001b[0m\u001b[1;34m\"Satan\"\u001b[0m\u001b[1;33m)\u001b[0m\u001b[1;33m\u001b[0m\u001b[1;33m\u001b[0m\u001b[0m\n\u001b[0m\u001b[0;32m     27\u001b[0m \u001b[0mmary\u001b[0m \u001b[1;33m=\u001b[0m \u001b[0mPerson\u001b[0m\u001b[1;33m(\u001b[0m\u001b[1;34m\"Mary\"\u001b[0m\u001b[1;33m)\u001b[0m\u001b[1;33m\u001b[0m\u001b[1;33m\u001b[0m\u001b[0m\n\u001b[0;32m     28\u001b[0m \u001b[0mmary\u001b[0m\u001b[1;33m.\u001b[0m\u001b[0mpet\u001b[0m \u001b[1;33m=\u001b[0m \u001b[0msatan\u001b[0m\u001b[1;33m\u001b[0m\u001b[1;33m\u001b[0m\u001b[0m\n",
      "\u001b[1;31mNameError\u001b[0m: name 'Cat' is not defined"
     ]
    }
   ],
   "source": [
    "class Animal(object):\n",
    "    pass\n",
    "class Dog(Animal):\n",
    "    \n",
    "    def __init__(self, name):\n",
    "        self.name = name\n",
    "class Person(object):\n",
    "    \n",
    "    def __init__(self, name):\n",
    "        self.name = name\n",
    "        self.pet = None\n",
    "class Employee(Person):\n",
    "    \n",
    "    def __init__(self, name, salary):\n",
    "        super(Employee, self).__init__(name)\n",
    "        self.salary = salary\n",
    "        \n",
    "class Fish(object):\n",
    "    pass\n",
    "class Salmon(Fish):\n",
    "    pass\n",
    "class Halibut(Fish):\n",
    "    pass\n",
    "\n",
    "rover = Dog(\"Rover\")\n",
    "satan = Cat(\"Satan\")\n",
    "mary = Person(\"Mary\")\n",
    "mary.pet = satan\n",
    "frank.Employee(\"Frank\", 120000)\n",
    "frank.pet = rover\n",
    "flipper = Fish()\n",
    "crouse = Salmon()\n",
    "harry = Halibut()"
   ]
  },
  {
   "cell_type": "markdown",
   "metadata": {},
   "source": [
    "## Exercise 43"
   ]
  },
  {
   "cell_type": "code",
   "execution_count": 7,
   "metadata": {},
   "outputs": [],
   "source": [
    "class Scene(object):\n",
    "    def enter(self):\n",
    "        pass\n",
    "class Engine(object):\n",
    "    def __init__(self, scene_map):\n",
    "        pass\n",
    "    def play(self):\n",
    "        pass\n",
    "class Death(Scene):\n",
    "    def enter(self):\n",
    "        pass\n",
    "class CentralCorrider(Scene):\n",
    "    def enter(self):\n",
    "        pass\n",
    "class LaserWeaponArmory(Scene):\n",
    "    def enter(self):\n",
    "        pass\n",
    "class TheBridge(Scene):\n",
    "    def enter(self):\n",
    "        pass\n",
    "class EscapePod(Scene):\n",
    "    def enter(self):\n",
    "        pass\n",
    "class Map(object):\n",
    "    def __init__(self, start_scene):\n",
    "        pass\n",
    "    def next_scene(self, scene_name):\n",
    "        pass\n",
    "    def opening_scene(self):\n",
    "        pass\n",
    "a_map = Map(\"central_corridor\")\n",
    "a_game = Engine(a_map)\n",
    "a_game.play()"
   ]
  },
  {
   "cell_type": "code",
   "execution_count": null,
   "metadata": {},
   "outputs": [],
   "source": []
  }
 ],
 "metadata": {
  "kernelspec": {
   "display_name": "Python 3",
   "language": "python",
   "name": "python3"
  },
  "language_info": {
   "codemirror_mode": {
    "name": "ipython",
    "version": 3
   },
   "file_extension": ".py",
   "mimetype": "text/x-python",
   "name": "python",
   "nbconvert_exporter": "python",
   "pygments_lexer": "ipython3",
   "version": "3.7.3"
  }
 },
 "nbformat": 4,
 "nbformat_minor": 2
}
